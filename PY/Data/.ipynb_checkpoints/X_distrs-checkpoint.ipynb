{
 "cells": [
  {
   "cell_type": "code",
   "execution_count": 1,
   "id": "72105543-edbc-4107-b72c-026e8d3f598b",
   "metadata": {},
   "outputs": [],
   "source": [
    "import numpy as np\n",
    "import numpy.random\n",
    "\n",
    "import scipy.stats as ss\n",
    "from scipy.stats import binom\n",
    "\n",
    "import matplotlib.pyplot as plt\n",
    "\n",
    "import sys \n",
    "sys.path.append('..')\n",
    "from Data import gener_dt\n",
    "\n",
    "from importlib import reload"
   ]
  },
  {
   "cell_type": "code",
   "execution_count": null,
   "id": "d97bfa3c-1e43-43d8-bfe7-3cd7e560c976",
   "metadata": {},
   "outputs": [],
   "source": []
  },
  {
   "cell_type": "markdown",
   "id": "937ec79f-7422-4533-81d3-dfe8a11558fd",
   "metadata": {},
   "source": [
    "# X distr."
   ]
  },
  {
   "cell_type": "code",
   "execution_count": 20,
   "id": "ccaccfef-77bc-454b-a442-24383064e986",
   "metadata": {},
   "outputs": [],
   "source": [
    "def mix_norm(norm_params, n = 500):\n",
    "    n_components = norm_params.shape[0]\n",
    "\n",
    "    weights = np.ones(n_components, dtype=np.float64) / 2.0\n",
    "    mixture_idx = numpy.random.choice(len(weights), size = n, replace = True, p = weights)\n",
    "\n",
    "    # the mixture sample\n",
    "    X = numpy.fromiter((ss.norm.rvs(*(norm_params[i])) for i in mixture_idx), dtype=np.float64)\n",
    "    \n",
    "    return X"
   ]
  },
  {
   "cell_type": "code",
   "execution_count": null,
   "id": "f36b14cb-41f8-46da-9c98-b71f28d76cc6",
   "metadata": {},
   "outputs": [],
   "source": [
    "n = 500"
   ]
  },
  {
   "cell_type": "code",
   "execution_count": 21,
   "id": "48b51fc4-cbe9-4e79-a248-dcd1e2f27655",
   "metadata": {},
   "outputs": [],
   "source": [
    "#1 Normal(4, 1)\n",
    "X = np.random.normal(4, 1, n)\n",
    "\n",
    "#2 Uniform(0, 8)\n",
    "X = np.random.uniform(0, 8, n)\n",
    "\n",
    "#3 Lognormal(0, 0.25)\n",
    "X = np.random.lognormal(0, 0.25, n)\n",
    "\n",
    "#4 Lognormal(0, 0.625)\n",
    "X = np.random.lognormal(0, 0.625, n)\n",
    "\n",
    "#5 Gamma(1, 1)\n",
    "X = np.random.gamma(1, 1, n)\n",
    "\n",
    "#6 Gamma(2, 0.5)\n",
    "X = np.random.gamma(2, 0.5, n)\n",
    "\n",
    "#7 N(1, 1), N(6, 3)\n",
    "X = mix_norm(norm_params = np.array([[1, 1], [6, 3]]), n)\n",
    "\n",
    "#8  N(1, 1), N(6, 10)\n",
    "X = mix_norm(norm_params = np.array([[1, 1], [6, 10]]), n)"
   ]
  },
  {
   "cell_type": "code",
   "execution_count": null,
   "id": "bda4d359-c332-4785-86ef-ac972ece502d",
   "metadata": {},
   "outputs": [],
   "source": []
  },
  {
   "cell_type": "code",
   "execution_count": 29,
   "id": "85ecdfa4-1064-42fc-98cb-3df223bd3cf4",
   "metadata": {},
   "outputs": [
    {
     "data": {
      "image/png": "[encoded data removed]",
      "text/plain": [
       "<Figure size 432x288 with 1 Axes>"
      ]
     },
     "metadata": {
      "needs_background": "light"
     },
     "output_type": "display_data"
    }
   ],
   "source": [
    "# N(1, 1), N(6, 3)\n",
    "X = mix_norm(norm_params = np.array([[1, 1], [6, 3]]), n)\n",
    "\n",
    "xs = np.linspace(X.min(), X.max(), 200)\n",
    "ys = np.zeros_like(xs)\n",
    "\n",
    "for (l, s), w in zip(norm_params, weights):\n",
    "    ys += ss.norm.pdf(xs, loc=l, scale=s) * w\n",
    "\n",
    "plt.plot(xs, ys)\n",
    "plt.hist(y, density=True, bins=\"fd\")\n",
    "plt.xlabel(\"x\")\n",
    "plt.ylabel(\"f(x)\")\n",
    "plt.show()"
   ]
  },
  {
   "cell_type": "code",
   "execution_count": 30,
   "id": "38cc8069-3d88-4019-bedc-bf29cb0ea39b",
   "metadata": {},
   "outputs": [
    {
     "data": {
      "image/png": "[encoded data removed]",
      "text/plain": [
       "<Figure size 432x288 with 1 Axes>"
      ]
     },
     "metadata": {
      "needs_background": "light"
     },
     "output_type": "display_data"
    }
   ],
   "source": [
    "# N(1, 1), N(6, 10)\n",
    "X = mix_norm(norm_params = np.array([[1, 1], [6, 10]]), n)\n",
    "\n",
    "xs = np.linspace(X.min(), X.max(), 200)\n",
    "ys = np.zeros_like(xs)\n",
    "\n",
    "for (l, s), w in zip(norm_params, weights):\n",
    "    ys += ss.norm.pdf(xs, loc=l, scale=s) * w\n",
    "\n",
    "plt.plot(xs, ys)\n",
    "plt.hist(y, density=True, bins=\"fd\")\n",
    "plt.xlabel(\"x\")\n",
    "plt.ylabel(\"f(x)\")\n",
    "plt.show()"
   ]
  },
  {
   "cell_type": "code",
   "execution_count": null,
   "id": "14a3299c-f51e-42ad-b3ff-7bc9a07a4d88",
   "metadata": {},
   "outputs": [],
   "source": []
  },
  {
   "cell_type": "markdown",
   "id": "bd9cc8d2-0c18-43b7-b95a-110ed922f126",
   "metadata": {},
   "source": [
    "# Scenarios 4 relationships among the variables"
   ]
  },
  {
   "cell_type": "code",
   "execution_count": null,
   "id": "b62431b9-533b-4fa5-b11e-5e1b41515bd8",
   "metadata": {},
   "outputs": [],
   "source": [
    "#1\n",
    "eps = np.random.normal(0, 1)\n",
    "Y = (2 + 2*X + X*X + eps)\n",
    "\n",
    "#2\n",
    "p = expit(-1.2 + 0.1*X + 0.05*X*X)\n",
    "Y = np.random.binomial(1, p, n)\n",
    "\n",
    "#3\n",
    "Z = np.random.normal(4, 2)\n",
    "eps = np.random.normal(0, 1)\n",
    "Y = (2 + X + X*Z + Z + eps)\n",
    "\n",
    "#4\n",
    "Z = np.random.normal(4, 2) \n",
    "p = expit(-2 + 0.5*X - 0.0625*X*Z + 0.25*Z)\n",
    "Y = np.random.binomial(1, p, n)"
   ]
  },
  {
   "cell_type": "code",
   "execution_count": null,
   "id": "8e611384-0928-4dd4-9dd9-e41417ce6264",
   "metadata": {},
   "outputs": [],
   "source": []
  },
  {
   "cell_type": "markdown",
   "id": "055d4d80-8670-4dc6-853a-3c8a69572a74",
   "metadata": {},
   "source": [
    "# Py file test"
   ]
  },
  {
   "cell_type": "code",
   "execution_count": null,
   "id": "2e3709f9-f069-4f63-b511-822b63e718eb",
   "metadata": {},
   "outputs": [],
   "source": [
    "def dataset():\n",
    "    n = 500\n",
    "    \n",
    "#     X = np.random.normal(4, 1, 1000)\n",
    "    X = np.random.gamma(1, 1, 1000)\n",
    "    eps = np.random.normal(0, 1)\n",
    "    \n",
    "    Y = (2 + 2*X + X*X + eps)\n",
    "\n",
    "    df = pd.DataFrame({'X': list(X), 'Y': list(Y)}, columns=['X', 'Y'])\n",
    "    \n",
    "    return df"
   ]
  },
  {
   "cell_type": "code",
   "execution_count": 4,
   "id": "0472d15e-01a8-438a-82ff-8eba167cb404",
   "metadata": {},
   "outputs": [],
   "source": []
  },
  {
   "cell_type": "code",
   "execution_count": 5,
   "id": "ec1da6a4-8c76-4e0b-8c59-9cecc8628716",
   "metadata": {},
   "outputs": [
    {
     "data": {
      "text/plain": [
       "<module 'Data.gener_dt' from '../Data/gener_dt.py'>"
      ]
     },
     "execution_count": 5,
     "metadata": {},
     "output_type": "execute_result"
    }
   ],
   "source": [
    "reload(gener_dt)"
   ]
  },
  {
   "cell_type": "code",
   "execution_count": 7,
   "id": "f2f03984-b1b3-4db8-8afa-dc5fd9540612",
   "metadata": {},
   "outputs": [
    {
     "data": {
      "text/html": [
       "<div>\n",
       "<style scoped>\n",
       "    .dataframe tbody tr th:only-of-type {\n",
       "        vertical-align: middle;\n",
       "    }\n",
       "\n",
       "    .dataframe tbody tr th {\n",
       "        vertical-align: top;\n",
       "    }\n",
       "\n",
       "    .dataframe thead th {\n",
       "        text-align: right;\n",
       "    }\n",
       "</style>\n",
       "<table border=\"1\" class=\"dataframe\">\n",
       "  <thead>\n",
       "    <tr style=\"text-align: right;\">\n",
       "      <th></th>\n",
       "      <th>X</th>\n",
       "      <th>XZ</th>\n",
       "      <th>Y</th>\n",
       "    </tr>\n",
       "  </thead>\n",
       "  <tbody>\n",
       "    <tr>\n",
       "      <th>0</th>\n",
       "      <td>0.724331</td>\n",
       "      <td>2.261731</td>\n",
       "      <td>8.935271</td>\n",
       "    </tr>\n",
       "    <tr>\n",
       "      <th>1</th>\n",
       "      <td>1.190476</td>\n",
       "      <td>3.717275</td>\n",
       "      <td>10.856961</td>\n",
       "    </tr>\n",
       "    <tr>\n",
       "      <th>2</th>\n",
       "      <td>0.109067</td>\n",
       "      <td>0.340564</td>\n",
       "      <td>6.398841</td>\n",
       "    </tr>\n",
       "    <tr>\n",
       "      <th>3</th>\n",
       "      <td>0.769399</td>\n",
       "      <td>2.402455</td>\n",
       "      <td>9.121063</td>\n",
       "    </tr>\n",
       "    <tr>\n",
       "      <th>4</th>\n",
       "      <td>2.126552</td>\n",
       "      <td>6.640180</td>\n",
       "      <td>14.715941</td>\n",
       "    </tr>\n",
       "    <tr>\n",
       "      <th>...</th>\n",
       "      <td>...</td>\n",
       "      <td>...</td>\n",
       "      <td>...</td>\n",
       "    </tr>\n",
       "    <tr>\n",
       "      <th>495</th>\n",
       "      <td>2.243600</td>\n",
       "      <td>7.005665</td>\n",
       "      <td>15.198475</td>\n",
       "    </tr>\n",
       "    <tr>\n",
       "      <th>496</th>\n",
       "      <td>0.234846</td>\n",
       "      <td>0.733307</td>\n",
       "      <td>6.917363</td>\n",
       "    </tr>\n",
       "    <tr>\n",
       "      <th>497</th>\n",
       "      <td>0.429705</td>\n",
       "      <td>1.341759</td>\n",
       "      <td>7.720673</td>\n",
       "    </tr>\n",
       "    <tr>\n",
       "      <th>498</th>\n",
       "      <td>5.782400</td>\n",
       "      <td>18.055603</td>\n",
       "      <td>29.787212</td>\n",
       "    </tr>\n",
       "    <tr>\n",
       "      <th>499</th>\n",
       "      <td>2.147405</td>\n",
       "      <td>6.705295</td>\n",
       "      <td>14.801910</td>\n",
       "    </tr>\n",
       "  </tbody>\n",
       "</table>\n",
       "<p>500 rows × 3 columns</p>\n",
       "</div>"
      ],
      "text/plain": [
       "            X         XZ          Y\n",
       "0    0.724331   2.261731   8.935271\n",
       "1    1.190476   3.717275  10.856961\n",
       "2    0.109067   0.340564   6.398841\n",
       "3    0.769399   2.402455   9.121063\n",
       "4    2.126552   6.640180  14.715941\n",
       "..        ...        ...        ...\n",
       "495  2.243600   7.005665  15.198475\n",
       "496  0.234846   0.733307   6.917363\n",
       "497  0.429705   1.341759   7.720673\n",
       "498  5.782400  18.055603  29.787212\n",
       "499  2.147405   6.705295  14.801910\n",
       "\n",
       "[500 rows x 3 columns]"
      ]
     },
     "execution_count": 7,
     "metadata": {},
     "output_type": "execute_result"
    }
   ],
   "source": [
    "gener_dt.gener('gamma1', n = 500, scenar = 'lr_inter')"
   ]
  },
  {
   "cell_type": "code",
   "execution_count": null,
   "id": "0f67b685-e2c7-49cd-b294-757e5afd756d",
   "metadata": {},
   "outputs": [],
   "source": []
  }
 ],
 "metadata": {
  "kernelspec": {
   "display_name": "Python 3",
   "language": "python",
   "name": "python3"
  },
  "language_info": {
   "codemirror_mode": {
    "name": "ipython",
    "version": 3
   },
   "file_extension": ".py",
   "mimetype": "text/x-python",
   "name": "python",
   "nbconvert_exporter": "python",
   "pygments_lexer": "ipython3",
   "version": "3.8.8"
  }
 },
 "nbformat": 4,
 "nbformat_minor": 5
}
